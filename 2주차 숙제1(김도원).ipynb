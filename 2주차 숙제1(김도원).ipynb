{
 "cells": [
  {
   "cell_type": "code",
   "execution_count": 7,
   "id": "123829ce-273b-4823-b954-f33ebaf9940f",
   "metadata": {},
   "outputs": [],
   "source": [
    "#학번 2025177784  이름 김도원  교수님 파이썬 파일 저장하는데만 1시간 걸렸어요. 앞으로의 난관이 살짝 걱정되지만 잘 따라해보겠습니다!"
   ]
  },
  {
   "cell_type": "code",
   "execution_count": null,
   "id": "66ca3fb4-4d47-408c-8dbd-980439fb0083",
   "metadata": {},
   "outputs": [],
   "source": [
    "#Exercise 1 (Types): Your First Program"
   ]
  },
  {
   "cell_type": "code",
   "execution_count": 5,
   "id": "f61b11a6-3fc3-441d-af75-1b6318f8256b",
   "metadata": {},
   "outputs": [
    {
     "name": "stdout",
     "output_type": "stream",
     "text": [
      "Hello, world!\n"
     ]
    }
   ],
   "source": [
    "print(\"Hello, world!\")"
   ]
  },
  {
   "cell_type": "code",
   "execution_count": 6,
   "id": "1d56838f-cb12-49dc-b21b-4eedd164ffc1",
   "metadata": {},
   "outputs": [
    {
     "name": "stdout",
     "output_type": "stream",
     "text": [
      "Hello, world!\n"
     ]
    }
   ],
   "source": [
    "print(\"Hello, world!\") # Print the traditional hello world"
   ]
  },
  {
   "cell_type": "code",
   "execution_count": 1,
   "id": "562a9f03-8539-4da4-80da-ad4a2a2edb8f",
   "metadata": {},
   "outputs": [],
   "source": [
    "#Exercise 2 (Types): Get the object type"
   ]
  },
  {
   "cell_type": "code",
   "execution_count": 3,
   "id": "4c120c0b-5cda-4fd2-a2a6-18f0ff8d0ecc",
   "metadata": {},
   "outputs": [
    {
     "data": {
      "text/plain": [
       "float"
      ]
     },
     "execution_count": 3,
     "metadata": {},
     "output_type": "execute_result"
    }
   ],
   "source": [
    "type(12.0)"
   ]
  },
  {
   "cell_type": "code",
   "execution_count": 1,
   "id": "d0825791-f640-488b-926f-85c9114c0327",
   "metadata": {},
   "outputs": [],
   "source": [
    "#Exercise 3 (Types): Types"
   ]
  },
  {
   "cell_type": "code",
   "execution_count": 2,
   "id": "959982e7-2f6b-48bd-acc7-a3b28f64f30b",
   "metadata": {},
   "outputs": [
    {
     "data": {
      "text/plain": [
       "float"
      ]
     },
     "execution_count": 2,
     "metadata": {},
     "output_type": "execute_result"
    }
   ],
   "source": [
    "type(6 / 2)"
   ]
  },
  {
   "cell_type": "code",
   "execution_count": 3,
   "id": "f3037921-cb97-4fcb-b101-c0198bca0a41",
   "metadata": {},
   "outputs": [
    {
     "data": {
      "text/plain": [
       "int"
      ]
     },
     "execution_count": 3,
     "metadata": {},
     "output_type": "execute_result"
    }
   ],
   "source": [
    "type(6 // 2)"
   ]
  },
  {
   "cell_type": "code",
   "execution_count": 4,
   "id": "00f7e6a7-7088-4de8-82ae-58908afac223",
   "metadata": {},
   "outputs": [],
   "source": [
    "#Exercise 4 (Types): Expression"
   ]
  },
  {
   "cell_type": "code",
   "execution_count": 5,
   "id": "19e228f1-9163-46f4-8b30-cec1aaf6e005",
   "metadata": {},
   "outputs": [
    {
     "data": {
      "text/plain": [
       "2"
      ]
     },
     "execution_count": 5,
     "metadata": {},
     "output_type": "execute_result"
    }
   ],
   "source": [
    "160//60"
   ]
  },
  {
   "cell_type": "code",
   "execution_count": 6,
   "id": "7fcddca3-9a6e-481e-b255-186a4f0dc760",
   "metadata": {},
   "outputs": [],
   "source": [
    "#Exercise 5 (Types): Expression and Variables in Python"
   ]
  },
  {
   "cell_type": "code",
   "execution_count": 7,
   "id": "645ca76d-803b-4919-bd72-b727d503170f",
   "metadata": {},
   "outputs": [
    {
     "data": {
      "text/plain": [
       "7"
      ]
     },
     "execution_count": 7,
     "metadata": {},
     "output_type": "execute_result"
    }
   ],
   "source": [
    "3 + 2 * 2"
   ]
  },
  {
   "cell_type": "code",
   "execution_count": 8,
   "id": "fa906455-e82c-4c31-9fa1-9eb652679e50",
   "metadata": {},
   "outputs": [
    {
     "data": {
      "text/plain": [
       "10"
      ]
     },
     "execution_count": 8,
     "metadata": {},
     "output_type": "execute_result"
    }
   ],
   "source": [
    "(3 + 2) * 2"
   ]
  },
  {
   "cell_type": "code",
   "execution_count": 9,
   "id": "5151c80a-02f8-4bc6-8998-dbc7cdecb575",
   "metadata": {},
   "outputs": [],
   "source": [
    "x = 3 + 2 * 2"
   ]
  },
  {
   "cell_type": "code",
   "execution_count": 10,
   "id": "d3860f15-1f74-4671-9614-81aa8950b9fc",
   "metadata": {},
   "outputs": [],
   "source": [
    "y = (3 + 2) * 2"
   ]
  },
  {
   "cell_type": "code",
   "execution_count": 11,
   "id": "5ad91984-5477-456d-ad66-5a2ddecc3a48",
   "metadata": {},
   "outputs": [],
   "source": [
    "z = x + y"
   ]
  },
  {
   "cell_type": "code",
   "execution_count": 12,
   "id": "f3a80905-edcb-44ce-945e-59fc702f46d1",
   "metadata": {},
   "outputs": [
    {
     "data": {
      "text/plain": [
       "17"
      ]
     },
     "execution_count": 12,
     "metadata": {},
     "output_type": "execute_result"
    }
   ],
   "source": [
    "z"
   ]
  }
 ],
 "metadata": {
  "kernelspec": {
   "display_name": "Python 3 (ipykernel)",
   "language": "python",
   "name": "python3"
  },
  "language_info": {
   "codemirror_mode": {
    "name": "ipython",
    "version": 3
   },
   "file_extension": ".py",
   "mimetype": "text/x-python",
   "name": "python",
   "nbconvert_exporter": "python",
   "pygments_lexer": "ipython3",
   "version": "3.13.2"
  }
 },
 "nbformat": 4,
 "nbformat_minor": 5
}
