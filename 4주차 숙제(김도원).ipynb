{
 "cells": [
  {
   "cell_type": "code",
   "execution_count": 1,
   "id": "68ec3843-60f0-4baf-81f4-b112e5237f29",
   "metadata": {},
   "outputs": [],
   "source": [
    "#Quiz on Conditions"
   ]
  },
  {
   "cell_type": "code",
   "execution_count": 2,
   "id": "6a7c5b51-82ad-4ee0-9dd7-838c606b8a96",
   "metadata": {},
   "outputs": [],
   "source": [
    "# 학번 : 2025177784, 이름 : 김도원"
   ]
  },
  {
   "cell_type": "code",
   "execution_count": null,
   "id": "ded41688-6b0c-41b8-9603-6228b9d1260b",
   "metadata": {},
   "outputs": [],
   "source": [
    "# Write an if statement to determine if an album had a rating greater than 8. Test it using the rating for the album “Back in Black” that \n",
    "  had a rating of 8.5. If the statement is true print \"This album is Amazing!\""
   ]
  },
  {
   "cell_type": "code",
   "execution_count": 14,
   "id": "f6d79987-7b88-4dfa-903c-00ee801d43ad",
   "metadata": {},
   "outputs": [
    {
     "name": "stdout",
     "output_type": "stream",
     "text": [
      "This album is Amazing!\n"
     ]
    }
   ],
   "source": [
    "rating = 8.5\n",
    "if rating > 8 : \n",
    "    print(\"This album is Amazing!\")"
   ]
  },
  {
   "cell_type": "code",
   "execution_count": null,
   "id": "753927ba-aa16-4d6b-a89b-40e167acea57",
   "metadata": {},
   "outputs": [],
   "source": [
    "# Write an if-else statement that performs the following. If the rating is larger then eight print “this album is amazing”. \n",
    "  If the rating is less than or equal to 8 print “this album is ok”."
   ]
  },
  {
   "cell_type": "code",
   "execution_count": 17,
   "id": "7a1e68b5-cff9-4b7d-9af0-a3527f743e8f",
   "metadata": {},
   "outputs": [
    {
     "name": "stdout",
     "output_type": "stream",
     "text": [
      "this album is amazing\n"
     ]
    }
   ],
   "source": [
    "rating = 8.5\n",
    "if rating > 8 :\n",
    "    print(\"this album is amazing\")\n",
    "else : \n",
    "    print(\"this album is ok\")"
   ]
  },
  {
   "cell_type": "code",
   "execution_count": null,
   "id": "0171ec05-d5c0-4bfb-9734-79870585f0f7",
   "metadata": {},
   "outputs": [],
   "source": [
    "# Write an if statement to determine if an album came out before 1980 or in the years: 1991 or 1993. \n",
    "  If the condition is true print out the year the album came out."
   ]
  },
  {
   "cell_type": "code",
   "execution_count": 23,
   "id": "d1727843-cbc8-4420-a05f-dcfa2a1f856c",
   "metadata": {},
   "outputs": [
    {
     "name": "stdout",
     "output_type": "stream",
     "text": [
      "this album came out already\n"
     ]
    }
   ],
   "source": [
    "album_year = 1979\n",
    "if (album_year < 1980) or (album_year == 1991) or (album_year == 1993):\n",
    "    print(\"this album came out already\")"
   ]
  }
 ],
 "metadata": {
  "kernelspec": {
   "display_name": "Python 3 (ipykernel)",
   "language": "python",
   "name": "python3"
  },
  "language_info": {
   "codemirror_mode": {
    "name": "ipython",
    "version": 3
   },
   "file_extension": ".py",
   "mimetype": "text/x-python",
   "name": "python",
   "nbconvert_exporter": "python",
   "pygments_lexer": "ipython3",
   "version": "3.13.2"
  }
 },
 "nbformat": 4,
 "nbformat_minor": 5
}
