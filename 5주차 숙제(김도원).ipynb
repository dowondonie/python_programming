{
 "cells": [
  {
   "cell_type": "code",
   "execution_count": null,
   "id": "f59ac135-5bae-452d-98af-f7e2e11552dd",
   "metadata": {},
   "outputs": [],
   "source": [
    "#Quiz on Loops"
   ]
  },
  {
   "cell_type": "code",
   "execution_count": null,
   "id": "6491eb4f-e7e0-4f4e-a026-c5d95a3734ec",
   "metadata": {},
   "outputs": [],
   "source": [
    "# 학번 : 2025177784, 이름 : 김도원"
   ]
  },
  {
   "cell_type": "code",
   "execution_count": null,
   "id": "d5bc3a74-a92f-411b-ae7d-01e01e19c1a5",
   "metadata": {},
   "outputs": [],
   "source": [
    "#1. Write a for loop the prints out all the element between -5 and 5 using the range function."
   ]
  },
  {
   "cell_type": "code",
   "execution_count": 6,
   "id": "03259e73-f555-4b28-a0ae-f425ec90e5d9",
   "metadata": {},
   "outputs": [
    {
     "name": "stdout",
     "output_type": "stream",
     "text": [
      "-5\n",
      "-4\n",
      "-3\n",
      "-2\n",
      "-1\n",
      "0\n",
      "1\n",
      "2\n",
      "3\n",
      "4\n",
      "5\n"
     ]
    }
   ],
   "source": [
    "for i in range(-5, 6):\n",
    "    print(i)"
   ]
  },
  {
   "cell_type": "code",
   "execution_count": null,
   "id": "27778dea-e0b9-47c2-9219-1f9efde3051a",
   "metadata": {},
   "outputs": [],
   "source": [
    "#2. Print the elements of the following list: Genres=[ 'rock', 'R&B', 'Soundtrack', 'R&B', 'soul', 'pop'] Make sure you follow Python conventions."
   ]
  },
  {
   "cell_type": "code",
   "execution_count": 7,
   "id": "f1df483b-ae2a-4b4c-99cb-7686c3908b82",
   "metadata": {},
   "outputs": [
    {
     "name": "stdout",
     "output_type": "stream",
     "text": [
      "rock\n",
      "R&B\n",
      "Soundtrack\n",
      "R&B\n",
      "soul\n",
      "pop\n"
     ]
    }
   ],
   "source": [
    "Genres=[ 'rock', 'R&B', 'Soundtrack', 'R&B', 'soul', 'pop']\n",
    "for Genre in Genres:\n",
    "    print(Genre)"
   ]
  },
  {
   "cell_type": "code",
   "execution_count": null,
   "id": "801a08d0-bc3c-4144-b189-4ad39806e9cd",
   "metadata": {},
   "outputs": [],
   "source": [
    "#3. Write a for loop that prints out the following list: squares=['red', 'yellow', 'green', 'purple', 'blue']"
   ]
  },
  {
   "cell_type": "code",
   "execution_count": 8,
   "id": "b59586ec-0c87-4213-a297-4f6711b235a9",
   "metadata": {},
   "outputs": [
    {
     "name": "stdout",
     "output_type": "stream",
     "text": [
      "red\n",
      "yellow\n",
      "green\n",
      "purple\n",
      "blue\n"
     ]
    }
   ],
   "source": [
    "squares=['red', 'yellow', 'green', 'purple', 'blue']\n",
    "for square in squares:\n",
    "    print(square)"
   ]
  },
  {
   "cell_type": "code",
   "execution_count": null,
   "id": "79b5b8c7-e872-47d0-9a72-24d95efe7dc6",
   "metadata": {},
   "outputs": [],
   "source": [
    "#4. Write a while loop to display the values of the Rating of an album playlist stored in the list PlayListRatings. \n",
    "#   If the score is less than 6, exit the loop. The list PlayListRatings is given by: PlayListRatings = [10, 9.5, 10, 8, 7.5, 5, 10, 10]"
   ]
  },
  {
   "cell_type": "code",
   "execution_count": 9,
   "id": "c9884f59-d4c3-49e0-8e67-eabcb373d7ea",
   "metadata": {},
   "outputs": [
    {
     "name": "stdout",
     "output_type": "stream",
     "text": [
      "10\n",
      "9.5\n",
      "10\n",
      "8\n",
      "7.5\n"
     ]
    }
   ],
   "source": [
    "PlayListRatings = [10, 9.5, 10, 8, 7.5, 5, 10, 10]\n",
    "i = 0\n",
    "Rating = PlayListRatings[i]\n",
    "while Rating >=6:\n",
    "    print(Rating)\n",
    "    i = i+1\n",
    "    Rating = PlayListRatings[i]       # i가 바뀌면 인덱스도 바뀌니까, 그에 맞춰 Rating도 다시 리스트에서 꺼내서 갱신해야 합니다."
   ]
  },
  {
   "cell_type": "code",
   "execution_count": null,
   "id": "9afca061-863f-4f28-a420-b6e03a4a4cac",
   "metadata": {},
   "outputs": [],
   "source": [
    "#5. Write a while loop to copy the strings 'orange' of the list squares to the list new_squares. \n",
    "#   Stop and exit the loop if the value on the list is not 'orange':"
   ]
  },
  {
   "cell_type": "code",
   "execution_count": 10,
   "id": "0cad688d-aaeb-4cda-a7b7-226bf0c7f27d",
   "metadata": {},
   "outputs": [
    {
     "name": "stdout",
     "output_type": "stream",
     "text": [
      "['orange', 'orange']\n"
     ]
    }
   ],
   "source": [
    "squares = ['orange', 'orange', 'purple', 'blue ', 'orange']\n",
    "new_squares = []\n",
    "i = 0\n",
    "while squares[i] == 'orange':\n",
    "    new_squares.append(squares[i])\n",
    "    i = i+1                             \n",
    "    # new_squares는 리스트 자체이고,리스트는 값이 바뀌는(=mutable) 자료형이라서 append만 해줘도 값이 리스트 안에서 ‘자동’으로 바뀐다.즉, 따로 다시 정의할 필요 없음\n",
    "print(new_squares)"
   ]
  }
 ],
 "metadata": {
  "kernelspec": {
   "display_name": "Python 3 (ipykernel)",
   "language": "python",
   "name": "python3"
  },
  "language_info": {
   "codemirror_mode": {
    "name": "ipython",
    "version": 3
   },
   "file_extension": ".py",
   "mimetype": "text/x-python",
   "name": "python",
   "nbconvert_exporter": "python",
   "pygments_lexer": "ipython3",
   "version": "3.13.2"
  }
 },
 "nbformat": 4,
 "nbformat_minor": 5
}
