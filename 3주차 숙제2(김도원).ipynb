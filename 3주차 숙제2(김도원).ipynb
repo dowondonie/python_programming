{
 "cells": [
  {
   "cell_type": "code",
   "execution_count": 1,
   "id": "49cacbc0-2afb-41fa-bd3d-3a2669e0e2c0",
   "metadata": {},
   "outputs": [],
   "source": [
    "#Quiz on List"
   ]
  },
  {
   "cell_type": "code",
   "execution_count": 2,
   "id": "a5663aab-924f-44fb-a255-8f92d3116404",
   "metadata": {},
   "outputs": [],
   "source": [
    "# 학번 : 2025177784, 이름 : 김도원"
   ]
  },
  {
   "cell_type": "code",
   "execution_count": 3,
   "id": "37e6d024-6e46-4c21-a8ce-a8a50310040f",
   "metadata": {},
   "outputs": [],
   "source": [
    "# 1. Create a list a_list, with the following elements 1, hello, [1,2,3] and True."
   ]
  },
  {
   "cell_type": "code",
   "execution_count": 4,
   "id": "36db2ce4-4819-46e3-ac85-8b5d64d6f38f",
   "metadata": {},
   "outputs": [],
   "source": [
    "a_list = [1, \"hello\", [1,2,3], True]"
   ]
  },
  {
   "cell_type": "code",
   "execution_count": 5,
   "id": "8edd0b33-94d5-45a4-9de9-f345f5563a95",
   "metadata": {},
   "outputs": [],
   "source": [
    "# 2. Find the value stored at index 1 of a_list."
   ]
  },
  {
   "cell_type": "code",
   "execution_count": 6,
   "id": "734267c6-e9fd-4fbc-b12e-8464af230248",
   "metadata": {},
   "outputs": [
    {
     "data": {
      "text/plain": [
       "'hello'"
      ]
     },
     "execution_count": 6,
     "metadata": {},
     "output_type": "execute_result"
    }
   ],
   "source": [
    "a_list[1]"
   ]
  },
  {
   "cell_type": "code",
   "execution_count": 7,
   "id": "26f95728-aa18-42cb-82ed-ef5b06bcfb54",
   "metadata": {},
   "outputs": [],
   "source": [
    "# 3. Retrieve the elements stored at index 1, 2 and 3 of a_list."
   ]
  },
  {
   "cell_type": "code",
   "execution_count": 8,
   "id": "2f34028b-e97e-46b9-81d3-ef9b81c841b9",
   "metadata": {},
   "outputs": [
    {
     "data": {
      "text/plain": [
       "['hello', [1, 2, 3], True]"
      ]
     },
     "execution_count": 8,
     "metadata": {},
     "output_type": "execute_result"
    }
   ],
   "source": [
    "a_list[1:4]"
   ]
  },
  {
   "cell_type": "code",
   "execution_count": 9,
   "id": "3b90838f-1c5e-4789-9c57-524878574959",
   "metadata": {},
   "outputs": [],
   "source": [
    "# 4. Concatenate the following lists A = [1, 'a'] and B = [2, 1, 'd']:"
   ]
  },
  {
   "cell_type": "code",
   "execution_count": 10,
   "id": "d2fe32b2-7983-4726-a3e0-bb191ca03150",
   "metadata": {},
   "outputs": [],
   "source": [
    "A = [1, 'a']"
   ]
  },
  {
   "cell_type": "code",
   "execution_count": 12,
   "id": "e820ae29-6bad-45f2-bac7-90facafe77d1",
   "metadata": {},
   "outputs": [],
   "source": [
    "B = [2, 1, 'd']"
   ]
  },
  {
   "cell_type": "code",
   "execution_count": 13,
   "id": "82c3dfee-0dfa-405a-821b-9fcc0dc4a388",
   "metadata": {},
   "outputs": [
    {
     "data": {
      "text/plain": [
       "[1, 'a', 2, 1, 'd']"
      ]
     },
     "execution_count": 13,
     "metadata": {},
     "output_type": "execute_result"
    }
   ],
   "source": [
    "A+B"
   ]
  }
 ],
 "metadata": {
  "kernelspec": {
   "display_name": "Python 3 (ipykernel)",
   "language": "python",
   "name": "python3"
  },
  "language_info": {
   "codemirror_mode": {
    "name": "ipython",
    "version": 3
   },
   "file_extension": ".py",
   "mimetype": "text/x-python",
   "name": "python",
   "nbconvert_exporter": "python",
   "pygments_lexer": "ipython3",
   "version": "3.13.2"
  }
 },
 "nbformat": 4,
 "nbformat_minor": 5
}
