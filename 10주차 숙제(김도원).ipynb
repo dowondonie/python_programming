{
 "cells": [
  {
   "cell_type": "code",
   "execution_count": 1,
   "id": "7ac29380-fa18-4812-aca4-09721b784410",
   "metadata": {},
   "outputs": [],
   "source": [
    "# Python 프로그래밍(클래스 II) \n",
    "# 학번 : 2025177784, 이름 : 김도원"
   ]
  },
  {
   "cell_type": "code",
   "execution_count": 2,
   "id": "33033100-4d10-49b2-bb94-b84129b5c79a",
   "metadata": {},
   "outputs": [],
   "source": [
    "# 계산기 프로그램(계산을 수행하며 이전에 계산된 결과를 메모리에 저장하고 있어야 함)"
   ]
  },
  {
   "cell_type": "code",
   "execution_count": 3,
   "id": "76bf49b8-923e-4ee8-976a-a3e61729dc26",
   "metadata": {},
   "outputs": [],
   "source": [
    "result = 0\n",
    "def adder(num):\n",
    "    global result\n",
    "    result += num\n",
    "    return result"
   ]
  },
  {
   "cell_type": "code",
   "execution_count": 4,
   "id": "c53f187e-c7a5-425c-a8be-c59b6b26f3d0",
   "metadata": {},
   "outputs": [
    {
     "name": "stdout",
     "output_type": "stream",
     "text": [
      "4\n"
     ]
    }
   ],
   "source": [
    "print(adder(4))"
   ]
  },
  {
   "cell_type": "code",
   "execution_count": 5,
   "id": "95480314-070f-4706-a740-942bbe42e6e5",
   "metadata": {},
   "outputs": [
    {
     "name": "stdout",
     "output_type": "stream",
     "text": [
      "9\n"
     ]
    }
   ],
   "source": [
    "print(adder(5))"
   ]
  },
  {
   "cell_type": "code",
   "execution_count": 6,
   "id": "e411c243-6d31-47b5-8efe-101ebe5a3249",
   "metadata": {},
   "outputs": [],
   "source": [
    "# 만약 계산기가 두 개 필요하면?"
   ]
  },
  {
   "cell_type": "code",
   "execution_count": 7,
   "id": "39fe0bdf-4e34-4067-8fa0-4baf38828bc0",
   "metadata": {},
   "outputs": [],
   "source": [
    "result1 = 0\n",
    "result2 = 1\n",
    "\n",
    "def adder1(num):\n",
    "    global result1\n",
    "    result1 += num\n",
    "    return result1 \n",
    "\n",
    "def adder2(num):\n",
    "    global result2\n",
    "    result2 += num\n",
    "    return result2 "
   ]
  },
  {
   "cell_type": "code",
   "execution_count": 8,
   "id": "e3f986c6-e6b6-4259-9d06-2f8bc7263d4a",
   "metadata": {},
   "outputs": [
    {
     "name": "stdout",
     "output_type": "stream",
     "text": [
      "3\n"
     ]
    }
   ],
   "source": [
    "print(adder1(3))"
   ]
  },
  {
   "cell_type": "code",
   "execution_count": 9,
   "id": "765701d4-bd71-44c4-8c93-d94f2ae4f68d",
   "metadata": {},
   "outputs": [
    {
     "name": "stdout",
     "output_type": "stream",
     "text": [
      "7\n"
     ]
    }
   ],
   "source": [
    "print(adder1(4))"
   ]
  },
  {
   "cell_type": "code",
   "execution_count": 10,
   "id": "b8a77af5-cdef-4d3d-8122-a5dff75b3cc1",
   "metadata": {},
   "outputs": [
    {
     "name": "stdout",
     "output_type": "stream",
     "text": [
      "4\n"
     ]
    }
   ],
   "source": [
    "print(adder2(3))"
   ]
  },
  {
   "cell_type": "code",
   "execution_count": 11,
   "id": "b1f1cddf-956b-43d2-99c3-4e3927b86f1c",
   "metadata": {},
   "outputs": [
    {
     "name": "stdout",
     "output_type": "stream",
     "text": [
      "11\n"
     ]
    }
   ],
   "source": [
    "print(adder2(7))"
   ]
  },
  {
   "cell_type": "code",
   "execution_count": 12,
   "id": "e0613678-b96d-4a3d-b577-28aeab3a3a2f",
   "metadata": {},
   "outputs": [],
   "source": [
    "# 계산기가 여러 개가 필요하다면? ☞ Class 사용, 계산기 객체 여러 개 생성"
   ]
  },
  {
   "cell_type": "code",
   "execution_count": 18,
   "id": "2ae1259a-4691-4d92-9597-f572bcea3ac3",
   "metadata": {},
   "outputs": [],
   "source": [
    "class Calculataor:\n",
    "    def __init__(self):         # __init__는 객체가 처음 만들어질 때 자동으로 실행되는 함수\n",
    "        self.result = 0         # self.result = 0은 계산기의 시작 값(결과 값)을 0으로 설정gksms rjt\n",
    "    def adder(self, num):\n",
    "        self.result += num\n",
    "        return self.result\n",
    "\n",
    "cal1 = Calculataor()\n",
    "cal2 = Calculataor()"
   ]
  },
  {
   "cell_type": "code",
   "execution_count": 19,
   "id": "6c801c5e-2247-49e2-9827-c3ce3d0bcfed",
   "metadata": {},
   "outputs": [
    {
     "name": "stdout",
     "output_type": "stream",
     "text": [
      "3\n"
     ]
    }
   ],
   "source": [
    "print(cal1.adder(3))"
   ]
  },
  {
   "cell_type": "code",
   "execution_count": 20,
   "id": "ebd3c4b0-5087-4d24-b442-0963a8f51f03",
   "metadata": {},
   "outputs": [
    {
     "name": "stdout",
     "output_type": "stream",
     "text": [
      "7\n"
     ]
    }
   ],
   "source": [
    "print(cal1.adder(4))"
   ]
  },
  {
   "cell_type": "code",
   "execution_count": 21,
   "id": "e89027cb-6f18-4fc8-a38a-c323d1094327",
   "metadata": {},
   "outputs": [
    {
     "name": "stdout",
     "output_type": "stream",
     "text": [
      "3\n"
     ]
    }
   ],
   "source": [
    "print(cal2.adder(3))"
   ]
  },
  {
   "cell_type": "code",
   "execution_count": 22,
   "id": "e2d4d309-65bd-4500-b548-9bfbd4823e8f",
   "metadata": {},
   "outputs": [
    {
     "name": "stdout",
     "output_type": "stream",
     "text": [
      "10\n"
     ]
    }
   ],
   "source": [
    "print(cal2.adder(7))"
   ]
  },
  {
   "cell_type": "code",
   "execution_count": 24,
   "id": "3e8d6d33-84b7-4993-b0e4-bc86289d25e4",
   "metadata": {},
   "outputs": [],
   "source": [
    "# 클래스 변수"
   ]
  },
  {
   "cell_type": "code",
   "execution_count": 32,
   "id": "8803d9ef-4bfb-4099-a702-667584e0068f",
   "metadata": {},
   "outputs": [
    {
     "data": {
      "text/plain": [
       "'지구는 4006년에 멸망한다.'"
      ]
     },
     "execution_count": 32,
     "metadata": {},
     "output_type": "execute_result"
    }
   ],
   "source": [
    "class Service:\n",
    "    secret = \"지구는 4006년에 멸망한다.\"            # secret = \"...\"처럼 클래스 안에서 정의된 변수는 클래스 변수(모든 객체가 공유)\n",
    "an = Service()                     # Service 클래스로 객체 하나 만들기\n",
    "an.secret          "
   ]
  },
  {
   "cell_type": "code",
   "execution_count": 34,
   "id": "96bb8aa0-ef25-43b8-9863-d12d5205b03f",
   "metadata": {},
   "outputs": [
    {
     "name": "stdout",
     "output_type": "stream",
     "text": [
      "지구가 4006년에 멸망한다는 사실은 뻥이다.\n"
     ]
    }
   ],
   "source": [
    "Service.secret = '지구가 4006년에 멸망한다는 사실은 뻥이다.'      # 클래스 변수 변경\n",
    "print(an.secret)"
   ]
  },
  {
   "cell_type": "code",
   "execution_count": 35,
   "id": "ffccf81d-0cb9-4410-a9ae-1e9199559870",
   "metadata": {},
   "outputs": [
    {
     "name": "stdout",
     "output_type": "stream",
     "text": [
      "1 + 1 = 2이다.\n"
     ]
    }
   ],
   "source": [
    "class Service:\n",
    "    secret = \"지구는 4006년에 멸망한다.\"            # secret는 클래스 변수임(모든 객체가 공유\n",
    "    def sum(self, a, b):                            # sum이라는 메서드(클래스 안의 함수)를 정의\n",
    "        result = a+b\n",
    "        print(\"%s + %s = %s이다.\" % (a, b, result))  # %s는 문자열 포맷팅 문법\n",
    "\n",
    "an = Service()\n",
    "an.sum(1,1)"
   ]
  },
  {
   "cell_type": "code",
   "execution_count": 45,
   "id": "fe2b4309-6df9-4bc7-9aa9-e6e6116b558b",
   "metadata": {},
   "outputs": [
    {
     "name": "stdout",
     "output_type": "stream",
     "text": [
      "박달도사님, 1 + 1 = 2입니다.\n"
     ]
    }
   ],
   "source": [
    "class Service:\n",
    "    secret = \"지구는 4006년에 멸망한다.\"            # secret는 클래스 변수임(모든 객체가 공유\n",
    "    def setname(self, name):\n",
    "        self.name = name\n",
    "    def sum(self, a, b):                            # sum이라는 메서드(클래스 안의 함수)를 정의\n",
    "        result = a+b\n",
    "        print(\"%s님, %s + %s = %s입니다.\" %(self.name, a, b, result))\n",
    "\n",
    "an = Service()\n",
    "an.setname(\"박달도사\")\n",
    "an.sum(1,1)"
   ]
  },
  {
   "cell_type": "code",
   "execution_count": null,
   "id": "107c3d72-7f58-4a53-b1aa-03abe4ee2f64",
   "metadata": {},
   "outputs": [],
   "source": [
    "# 클래스 변수는 공유되는 변수, 객체 변수는 객체별로 고유한 값 저장"
   ]
  },
  {
   "cell_type": "code",
   "execution_count": 46,
   "id": "0a78fbdd-16b5-40d3-856f-4265940ad157",
   "metadata": {},
   "outputs": [
    {
     "name": "stdout",
     "output_type": "stream",
     "text": [
      "김정보\n",
      "박융합\n",
      "지구는 4006년에 멸망한다.\n",
      "비밀은 없다\n"
     ]
    },
    {
     "data": {
      "text/plain": [
       "'지구는 4006년에 멸망한다.'"
      ]
     },
     "execution_count": 46,
     "metadata": {},
     "output_type": "execute_result"
    }
   ],
   "source": [
    "kim = Service()\n",
    "park = Service()\n",
    "kim.name = \"김정보\"\n",
    "park.name = \"박융합\"\n",
    "print(kim.name)\n",
    "print(park.name)\n",
    "kim.secret = \"비밀은 없다\"\n",
    "print(park.secret)\n",
    "print(kim.secret)\n",
    "Service.secret"
   ]
  },
  {
   "cell_type": "code",
   "execution_count": 47,
   "id": "558f0544-4fdd-4b64-8b87-c551c74748d5",
   "metadata": {},
   "outputs": [],
   "source": [
    "# __init__은 무엇?"
   ]
  },
  {
   "cell_type": "code",
   "execution_count": 48,
   "id": "ab161968-8a9c-4f8f-816b-1b290757d562",
   "metadata": {},
   "outputs": [
    {
     "ename": "AttributeError",
     "evalue": "'Service' object has no attribute 'name'",
     "output_type": "error",
     "traceback": [
      "\u001b[31m---------------------------------------------------------------------------\u001b[39m",
      "\u001b[31mAttributeError\u001b[39m                            Traceback (most recent call last)",
      "\u001b[36mCell\u001b[39m\u001b[36m \u001b[39m\u001b[32mIn[48]\u001b[39m\u001b[32m, line 2\u001b[39m\n\u001b[32m      1\u001b[39m lee = Service()\n\u001b[32m----> \u001b[39m\u001b[32m2\u001b[39m \u001b[43mlee\u001b[49m\u001b[43m.\u001b[49m\u001b[43msum\u001b[49m\u001b[43m(\u001b[49m\u001b[32;43m1\u001b[39;49m\u001b[43m,\u001b[49m\u001b[32;43m1\u001b[39;49m\u001b[43m)\u001b[49m\n",
      "\u001b[36mCell\u001b[39m\u001b[36m \u001b[39m\u001b[32mIn[45]\u001b[39m\u001b[32m, line 7\u001b[39m, in \u001b[36mService.sum\u001b[39m\u001b[34m(self, a, b)\u001b[39m\n\u001b[32m      5\u001b[39m \u001b[38;5;28;01mdef\u001b[39;00m\u001b[38;5;250m \u001b[39m\u001b[34msum\u001b[39m(\u001b[38;5;28mself\u001b[39m, a, b):                            \u001b[38;5;66;03m# sum이라는 메서드(클래스 안의 함수)를 정의\u001b[39;00m\n\u001b[32m      6\u001b[39m     result = a+b\n\u001b[32m----> \u001b[39m\u001b[32m7\u001b[39m     \u001b[38;5;28mprint\u001b[39m(\u001b[33m\"\u001b[39m\u001b[38;5;132;01m%s\u001b[39;00m\u001b[33m님, \u001b[39m\u001b[38;5;132;01m%s\u001b[39;00m\u001b[33m + \u001b[39m\u001b[38;5;132;01m%s\u001b[39;00m\u001b[33m = \u001b[39m\u001b[38;5;132;01m%s\u001b[39;00m\u001b[33m입니다.\u001b[39m\u001b[33m\"\u001b[39m %(\u001b[38;5;28;43mself\u001b[39;49m\u001b[43m.\u001b[49m\u001b[43mname\u001b[49m, a, b, result))\n",
      "\u001b[31mAttributeError\u001b[39m: 'Service' object has no attribute 'name'"
     ]
    }
   ],
   "source": [
    "lee = Service()\n",
    "lee.sum(1,1)"
   ]
  },
  {
   "cell_type": "code",
   "execution_count": 52,
   "id": "cab16ccf-2c9e-4fdd-a46a-5b814be2bdd3",
   "metadata": {},
   "outputs": [
    {
     "name": "stdout",
     "output_type": "stream",
     "text": [
      "박달도사님, 1 + 1 = 2입니다.\n"
     ]
    }
   ],
   "source": [
    "class Service:\n",
    "    secret = \"지구는 4006년에 멸망한다.\"\n",
    "    def __init__(self, name):\n",
    "        self.name = name\n",
    "    def sum(self, a, b):\n",
    "        result = a+b\n",
    "        print(\"%s님, %s + %s = %s입니다.\" %(self.name, a, b, result))\n",
    "an = Service(\"박달도사\")\n",
    "an.sum(1,1)"
   ]
  },
  {
   "cell_type": "code",
   "execution_count": 54,
   "id": "5dd48c46-0f03-4660-8c4b-d56dfc2debb7",
   "metadata": {},
   "outputs": [],
   "source": [
    "# Service 클래스의 객체 an을 만든다.\n",
    "# 자동으로 __init__() 함수가 호출된다! ★★★ 객체가 만들어질 때 자동으로 실행됨!!!\n",
    "# 우리가 넣은 \"박달도사\"가 name 자리에 전달된다.\n",
    "# self.name = name에 의해, an.name = \"박달도사\"가 저장된다.\n",
    "# 이제 sum 함수가 실행될 때, self.name은 \"박달도사\"가 되니까,\n",
    "# 출력은 이렇게 된다: 박달도사님, 1 + 1 = 2입니다."
   ]
  },
  {
   "cell_type": "code",
   "execution_count": 55,
   "id": "bcd145c7-769c-4f20-954c-6d0a096cac25",
   "metadata": {},
   "outputs": [],
   "source": [
    "# 사칙연산 클래스"
   ]
  },
  {
   "cell_type": "code",
   "execution_count": 56,
   "id": "bbd11374-e499-4338-9a55-2a726087197c",
   "metadata": {},
   "outputs": [
    {
     "data": {
      "text/plain": [
       "__main__.FourCal"
      ]
     },
     "execution_count": 56,
     "metadata": {},
     "output_type": "execute_result"
    }
   ],
   "source": [
    "class FourCal:\n",
    "    pass\n",
    "\n",
    "a = FourCal()\n",
    "type(a)"
   ]
  },
  {
   "cell_type": "code",
   "execution_count": 58,
   "id": "ecc00415-ea8c-419d-8d03-1cc48f360b7b",
   "metadata": {},
   "outputs": [
    {
     "name": "stdout",
     "output_type": "stream",
     "text": [
      "4\n",
      "2\n"
     ]
    }
   ],
   "source": [
    "class FourCal:\n",
    "    def setdata(self, first, second):\n",
    "        self.first = first\n",
    "        self.second = second\n",
    "\n",
    "a = FourCal()\n",
    "a.setdata(4,2)\n",
    "print(a.first)\n",
    "print(a.second)"
   ]
  },
  {
   "cell_type": "code",
   "execution_count": 67,
   "id": "b1b19922-5f9b-4289-906d-2b3851fd7c8b",
   "metadata": {},
   "outputs": [
    {
     "name": "stdout",
     "output_type": "stream",
     "text": [
      "6\n",
      "8\n",
      "2\n",
      "2.0\n"
     ]
    }
   ],
   "source": [
    "class FourCal:\n",
    "    def setdata(self, first, second):\n",
    "        self.first = first\n",
    "        self.second = second\n",
    "    def sum(self):\n",
    "        result = self.first + self.second\n",
    "        return result\n",
    "    def mul(self):\n",
    "        result = self.first * self.second\n",
    "        return result\n",
    "    def sub(self):\n",
    "        result = self.first - self.second\n",
    "        return result\n",
    "    def div(self):\n",
    "        result = self.first / self.second\n",
    "        return result\n",
    "\n",
    "a = FourCal()\n",
    "a.setdata(4, 2)\n",
    "print(a.sum())\n",
    "print(a.mul())\n",
    "print(a.sub())\n",
    "print(a.div())"
   ]
  },
  {
   "cell_type": "code",
   "execution_count": 65,
   "id": "ea295da6-7986-4e44-a885-46dabadf9877",
   "metadata": {},
   "outputs": [
    {
     "data": {
      "text/plain": [
       "-4"
      ]
     },
     "execution_count": 65,
     "metadata": {},
     "output_type": "execute_result"
    }
   ],
   "source": [
    "b = FourCal()\n",
    "b.setdata(3,7)\n",
    "b.sub()"
   ]
  },
  {
   "cell_type": "code",
   "execution_count": 68,
   "id": "0516ccc8-02f2-42c4-83af-782b7bb88d8c",
   "metadata": {},
   "outputs": [],
   "source": [
    "# 간단한 주사위 게임(두 명의 플레이어가 세 개의 주사위를 굴리고, 많은 점수가 나오는 사람이 이긴다."
   ]
  },
  {
   "cell_type": "code",
   "execution_count": 79,
   "id": "a708ba16-e26b-4c57-bd3d-bd6157d1eeeb",
   "metadata": {},
   "outputs": [
    {
     "name": "stdout",
     "output_type": "stream",
     "text": [
      "Player 1 rolled[3, 1, 1]\n",
      "Player 2 rolled[5, 6, 4]\n",
      "Player 2 wins\n"
     ]
    }
   ],
   "source": [
    "import random            # 파이썬에 내장된 random 모듈을 불러오는 코드. 난수(무작위 수)를 만들 때 사용.\n",
    "\n",
    "player1_dice = []        # 각각의 플레이어가 던진 주사위 결과를 저장할 빈 리스트 생성\n",
    "player2_dice = []\n",
    "\n",
    "for i in range(3):       # 주사위를 3번 던지기 위해 반복하는 코드(0, 1, 2)\n",
    "    player1_dice.append(random.randint(1, 6))      # .append()로 값 추가 / random.randint(1, 6)은 무작위로 정수를 뽑아주는 함수(1, 6 포함임)\n",
    "    player2_dice.append(random.randint(1, 6))\n",
    "\n",
    "print(\"Player 1 rolled\" + str(player1_dice))\n",
    "print(\"Player 2 rolled\" + str(player2_dice))\n",
    "\n",
    "if sum(player1_dice) == sum(player2_dice):\n",
    "    print(\"Draw\")\n",
    "elif sum(player1_dice) > sum(player2_dice):\n",
    "    print(\"Player 1 wins\")\n",
    "else:\n",
    "    print(\"Player 2 wins\")"
   ]
  },
  {
   "cell_type": "code",
   "execution_count": null,
   "id": "2f2d8502-4c07-4f08-8d19-136baaf667b7",
   "metadata": {},
   "outputs": [],
   "source": [
    "# 끝"
   ]
  }
 ],
 "metadata": {
  "kernelspec": {
   "display_name": "Python 3 (ipykernel)",
   "language": "python",
   "name": "python3"
  },
  "language_info": {
   "codemirror_mode": {
    "name": "ipython",
    "version": 3
   },
   "file_extension": ".py",
   "mimetype": "text/x-python",
   "name": "python",
   "nbconvert_exporter": "python",
   "pygments_lexer": "ipython3",
   "version": "3.13.2"
  }
 },
 "nbformat": 4,
 "nbformat_minor": 5
}
