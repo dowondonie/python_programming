{
 "cells": [
  {
   "cell_type": "code",
   "execution_count": 1,
   "id": "b5be131c-627b-418e-9d08-df04390217c7",
   "metadata": {},
   "outputs": [],
   "source": [
    "# Quiz on Functions"
   ]
  },
  {
   "cell_type": "code",
   "execution_count": 2,
   "id": "32ab6e46-9625-47b5-974c-e5081c96ce12",
   "metadata": {},
   "outputs": [],
   "source": [
    "# 학번 : 2025177784, 이름 : 김도원"
   ]
  },
  {
   "cell_type": "code",
   "execution_count": 3,
   "id": "4951208c-417e-4fe3-863b-d8e9668b65a9",
   "metadata": {},
   "outputs": [],
   "source": [
    "# 1. Come up with a function that divides the first input by the second input:"
   ]
  },
  {
   "cell_type": "code",
   "execution_count": 4,
   "id": "8777615f-94d6-4baf-88de-3a00935acad7",
   "metadata": {},
   "outputs": [],
   "source": [
    "def divide(a,b):\n",
    "    return a / b"
   ]
  },
  {
   "cell_type": "code",
   "execution_count": 5,
   "id": "3421c364-002c-445a-96a3-0bd3f740e603",
   "metadata": {},
   "outputs": [],
   "source": [
    "# Use the function con for the following question."
   ]
  },
  {
   "cell_type": "code",
   "execution_count": 6,
   "id": "6abaf012-20b2-44c6-acc2-351624cd29f8",
   "metadata": {},
   "outputs": [],
   "source": [
    "def con(a,b):\n",
    "    return(a+b)"
   ]
  },
  {
   "cell_type": "code",
   "execution_count": 7,
   "id": "f7dd99b5-09b6-4e9a-b7a7-080fab143ba8",
   "metadata": {},
   "outputs": [],
   "source": [
    "# 2. Can the con function we defined before be used to add to integers or strings?"
   ]
  },
  {
   "cell_type": "code",
   "execution_count": 11,
   "id": "b41a9a08-2451-4f2d-a0f0-5272454fcfb9",
   "metadata": {},
   "outputs": [
    {
     "name": "stdout",
     "output_type": "stream",
     "text": [
      "네 가능합니다\n"
     ]
    }
   ],
   "source": [
    "print(\"네 가능합니다\")"
   ]
  },
  {
   "cell_type": "code",
   "execution_count": 14,
   "id": "a0ab47d3-5762-4f6c-8f2f-46e604b3ccdf",
   "metadata": {},
   "outputs": [
    {
     "name": "stdout",
     "output_type": "stream",
     "text": [
      "add to integer를 예시로 들어본다면\n"
     ]
    },
    {
     "data": {
      "text/plain": [
       "1004"
      ]
     },
     "execution_count": 14,
     "metadata": {},
     "output_type": "execute_result"
    }
   ],
   "source": [
    "print(\"add to integer를 예시로 들어본다면\")\n",
    "con(1000,4)"
   ]
  },
  {
   "cell_type": "code",
   "execution_count": 23,
   "id": "734766ea-8e54-4c99-94cf-47bc1f59c3a5",
   "metadata": {},
   "outputs": [
    {
     "name": "stdout",
     "output_type": "stream",
     "text": [
      "add to string을 예시로 들어본다면\n"
     ]
    },
    {
     "data": {
      "text/plain": [
       "'교수님, 중간고사 쉽게 내주세요♥'"
      ]
     },
     "execution_count": 23,
     "metadata": {},
     "output_type": "execute_result"
    }
   ],
   "source": [
    "print(\"add to string을 예시로 들어본다면\")\n",
    "con(\"교수님\",\", 중간고사 쉽게 내주세요♥\")"
   ]
  },
  {
   "cell_type": "code",
   "execution_count": 19,
   "id": "a18aefbd-45aa-46e8-a8e4-6fabca8da2b8",
   "metadata": {},
   "outputs": [],
   "source": [
    "# 3. Can the con function we defined before be used to concentrate a list or tuple?"
   ]
  },
  {
   "cell_type": "code",
   "execution_count": 28,
   "id": "b3567f81-33bd-4ef8-ba58-fb2e83e0a557",
   "metadata": {},
   "outputs": [
    {
     "name": "stdout",
     "output_type": "stream",
     "text": [
      "네, 가능합니다\n",
      "list를 예시로 들어본다면\n"
     ]
    },
    {
     "data": {
      "text/plain": [
       "[1004, '교수님', 1004, '감사합니다!']"
      ]
     },
     "execution_count": 28,
     "metadata": {},
     "output_type": "execute_result"
    }
   ],
   "source": [
    "print(\"네, 가능합니다\")\n",
    "print(\"list를 예시로 들어본다면\")\n",
    "con([1004, \"교수님\"], [1004, \"감사합니다!\"])"
   ]
  },
  {
   "cell_type": "code",
   "execution_count": 30,
   "id": "74cc2dd3-eb18-464f-ac0b-003f7f196797",
   "metadata": {},
   "outputs": [
    {
     "name": "stdout",
     "output_type": "stream",
     "text": [
      "네, 가능합니다\n",
      "tuple을 예시로 들어본다면\n"
     ]
    },
    {
     "data": {
      "text/plain": [
       "(1004, '교수님', 1004, '기말고사 쉽게 내주세요♥')"
      ]
     },
     "execution_count": 30,
     "metadata": {},
     "output_type": "execute_result"
    }
   ],
   "source": [
    "print(\"네, 가능합니다\")\n",
    "print(\"tuple을 예시로 들어본다면\")\n",
    "con((1004, \"교수님\"), (1004, \"기말고사 쉽게 내주세요♥\"))"
   ]
  }
 ],
 "metadata": {
  "kernelspec": {
   "display_name": "Python 3 (ipykernel)",
   "language": "python",
   "name": "python3"
  },
  "language_info": {
   "codemirror_mode": {
    "name": "ipython",
    "version": 3
   },
   "file_extension": ".py",
   "mimetype": "text/x-python",
   "name": "python",
   "nbconvert_exporter": "python",
   "pygments_lexer": "ipython3",
   "version": "3.13.2"
  }
 },
 "nbformat": 4,
 "nbformat_minor": 5
}
