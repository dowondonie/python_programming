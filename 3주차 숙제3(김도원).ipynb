{
 "cells": [
  {
   "cell_type": "markdown",
   "id": "b18228b5-a885-4d44-b66c-83f3f8b724ef",
   "metadata": {},
   "source": [
    "#Quiz on Dictionaries"
   ]
  },
  {
   "cell_type": "code",
   "execution_count": 1,
   "id": "b6d2dd78-2444-42df-9d21-fa71f09bf279",
   "metadata": {},
   "outputs": [],
   "source": [
    "# 학번 : 2025177784, 이름 : 김도원"
   ]
  },
  {
   "cell_type": "code",
   "execution_count": 6,
   "id": "625e554b-6522-4079-a573-7a9312e783a9",
   "metadata": {},
   "outputs": [
    {
     "data": {
      "text/plain": [
       "{'The Bodyguard': '1992', 'Saturday Night Fever': '1977'}"
      ]
     },
     "execution_count": 6,
     "metadata": {},
     "output_type": "execute_result"
    }
   ],
   "source": [
    "soundtrack_dic = {\"The Bodyguard\":\"1992\", \"Saturday Night Fever\":\"1977\"}\n",
    "soundtrack_dic"
   ]
  },
  {
   "cell_type": "code",
   "execution_count": 7,
   "id": "3b9ad55d-e9fe-4448-b9be-7ed539b92e75",
   "metadata": {},
   "outputs": [],
   "source": [
    "# a) In the dictionary soundtrack_dict what are the keys ?"
   ]
  },
  {
   "cell_type": "code",
   "execution_count": 8,
   "id": "4558a2b2-3ebb-436a-b987-cb1aa691663c",
   "metadata": {},
   "outputs": [
    {
     "data": {
      "text/plain": [
       "dict_keys(['The Bodyguard', 'Saturday Night Fever'])"
      ]
     },
     "execution_count": 8,
     "metadata": {},
     "output_type": "execute_result"
    }
   ],
   "source": [
    "soundtrack_dic.keys()"
   ]
  },
  {
   "cell_type": "code",
   "execution_count": 9,
   "id": "acd2b9b2-b269-4309-8615-f039e9ad4f27",
   "metadata": {},
   "outputs": [
    {
     "data": {
      "text/plain": [
       "dict_values(['1992', '1977'])"
      ]
     },
     "execution_count": 9,
     "metadata": {},
     "output_type": "execute_result"
    }
   ],
   "source": [
    "soundtrack_dic.values()"
   ]
  },
  {
   "cell_type": "code",
   "execution_count": 10,
   "id": "00d08b5c-c43e-4cec-812f-c2c6428cacd4",
   "metadata": {},
   "outputs": [],
   "source": [
    "# The Albums Back in Black, The Bodyguard and Thriller have the following music recording sales in millions 50, 50 and 65 respectively:"
   ]
  },
  {
   "cell_type": "code",
   "execution_count": 11,
   "id": "b51bf386-bef0-4734-b021-b555f73e651f",
   "metadata": {},
   "outputs": [],
   "source": [
    "# a) Create a dictionary album_sales_dict where the keys are the album name and the sales in millions are the values."
   ]
  },
  {
   "cell_type": "code",
   "execution_count": 12,
   "id": "2f093350-1164-41bc-aeea-a14dd3a4e7ab",
   "metadata": {},
   "outputs": [],
   "source": [
    "album_sales_dict = {'Back in Black' : 50, \"The Bodyguard\" : 50, \"Thriller\" : 65}"
   ]
  },
  {
   "cell_type": "code",
   "execution_count": 14,
   "id": "1b9574ed-f325-4c34-9f50-5c8a43aa7988",
   "metadata": {},
   "outputs": [],
   "source": [
    "# b) Use the dictionary to find the total sales of Thriller:"
   ]
  },
  {
   "cell_type": "code",
   "execution_count": 18,
   "id": "3547093b-dfda-41f9-94af-6d3b04354b56",
   "metadata": {},
   "outputs": [
    {
     "data": {
      "text/plain": [
       "65"
      ]
     },
     "execution_count": 18,
     "metadata": {},
     "output_type": "execute_result"
    }
   ],
   "source": [
    "album_sales_dict[\"Thriller\"]"
   ]
  },
  {
   "cell_type": "code",
   "execution_count": 19,
   "id": "cbd0a190-7959-4822-ba78-0240881cf4d5",
   "metadata": {},
   "outputs": [],
   "source": [
    "# c) Find the names of the albums from the dictionary using the method keys:"
   ]
  },
  {
   "cell_type": "code",
   "execution_count": 21,
   "id": "1ab4e322-7c61-4ece-956e-710974ad8baf",
   "metadata": {},
   "outputs": [
    {
     "data": {
      "text/plain": [
       "dict_keys(['Back in Black', 'The Bodyguard', 'Thriller'])"
      ]
     },
     "execution_count": 21,
     "metadata": {},
     "output_type": "execute_result"
    }
   ],
   "source": [
    "album_sales_dict.keys()"
   ]
  },
  {
   "cell_type": "code",
   "execution_count": 22,
   "id": "3a0d994c-fe13-45c1-9c71-8ddad18d8009",
   "metadata": {},
   "outputs": [],
   "source": [
    "# d) Find the names of the recording sales from the dictionary using the method values:"
   ]
  },
  {
   "cell_type": "code",
   "execution_count": 23,
   "id": "8d9dca01-30bf-46e4-977d-f93fd9fa1c38",
   "metadata": {},
   "outputs": [
    {
     "data": {
      "text/plain": [
       "dict_values([50, 50, 65])"
      ]
     },
     "execution_count": 23,
     "metadata": {},
     "output_type": "execute_result"
    }
   ],
   "source": [
    "album_sales_dict.values()"
   ]
  }
 ],
 "metadata": {
  "kernelspec": {
   "display_name": "Python 3 (ipykernel)",
   "language": "python",
   "name": "python3"
  },
  "language_info": {
   "codemirror_mode": {
    "name": "ipython",
    "version": 3
   },
   "file_extension": ".py",
   "mimetype": "text/x-python",
   "name": "python",
   "nbconvert_exporter": "python",
   "pygments_lexer": "ipython3",
   "version": "3.13.2"
  }
 },
 "nbformat": 4,
 "nbformat_minor": 5
}
