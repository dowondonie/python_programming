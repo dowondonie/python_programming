{
 "cells": [
  {
   "cell_type": "code",
   "execution_count": 40,
   "id": "d909f6d2-0795-4575-a0a6-2cb4afc70e95",
   "metadata": {},
   "outputs": [],
   "source": [
    "# Python 프로그래밍(함수 고급) \n",
    "# 학번 : 2025177784, 이름 : 김도원"
   ]
  },
  {
   "cell_type": "code",
   "execution_count": null,
   "id": "fa46488c-be36-4125-803d-d334731bcc4e",
   "metadata": {},
   "outputs": [],
   "source": [
    "# <<< Comprehension >>>"
   ]
  },
  {
   "cell_type": "code",
   "execution_count": 4,
   "id": "d8da85f7-11cb-40f7-98ae-93f92d8acf5e",
   "metadata": {},
   "outputs": [],
   "source": [
    "# 1부터 5까지의 정수 리스트 만들기"
   ]
  },
  {
   "cell_type": "code",
   "execution_count": 9,
   "id": "4d0efb3b-8f33-4431-92c9-fade85f54ff4",
   "metadata": {},
   "outputs": [
    {
     "data": {
      "text/plain": [
       "[1, 2, 3, 4, 5]"
      ]
     },
     "execution_count": 9,
     "metadata": {},
     "output_type": "execute_result"
    }
   ],
   "source": [
    "# 방법 1 : .append()를 이용해서 하나씩 덧붙이기  ☞ 코드가 길어지고 반복적이어서 비효\n",
    "number_list = []\n",
    "number_list.append(1)\n",
    "number_list.append(2)\n",
    "number_list.append(3)\n",
    "number_list.append(4)\n",
    "number_list.append(5)\n",
    "number_list"
   ]
  },
  {
   "cell_type": "code",
   "execution_count": 11,
   "id": "43d45a1b-037c-460d-9f8a-479e9e4a6f56",
   "metadata": {},
   "outputs": [
    {
     "data": {
      "text/plain": [
       "[1, 2, 3, 4, 5]"
      ]
     },
     "execution_count": 11,
     "metadata": {},
     "output_type": "execute_result"
    }
   ],
   "source": [
    "# 방법 2 : for문을 이용해서 순회 반복  ☞ 여전히 append()를 사용하므로 코드가 약간 길어짐.\n",
    "number_list = []\n",
    "for number in range(1, 6):     # range(1, 6) : 1,2,3,4,5이므로, append(1)부터 append(5)까지 돌아가며 덧붙여짐\n",
    "    number_list.append(number)\n",
    "number_list"
   ]
  },
  {
   "cell_type": "code",
   "execution_count": 12,
   "id": "c67e2103-365c-4720-ba6a-e1a72a44b359",
   "metadata": {},
   "outputs": [
    {
     "data": {
      "text/plain": [
       "[1, 2, 3, 4, 5]"
      ]
     },
     "execution_count": 12,
     "metadata": {},
     "output_type": "execute_result"
    }
   ],
   "source": [
    "# 방법 3   ☞ 가장 간결하지만, 조건이 있는 경우는 적용 불가(단순한 숫자 리스트에만 적용 권장)\n",
    "number_list = list(range(1, 6))\n",
    "number_list"
   ]
  },
  {
   "cell_type": "code",
   "execution_count": 13,
   "id": "2e04bcc5-42f4-4d78-a512-f0b037d6f874",
   "metadata": {},
   "outputs": [
    {
     "data": {
      "text/plain": [
       "[1, 2, 3, 4, 5]"
      ]
     },
     "execution_count": 13,
     "metadata": {},
     "output_type": "execute_result"
    }
   ],
   "source": [
    "# 방법 4 : List comprehension   ☞ 추후, 함수 또는 조건문도 결합 가능\n",
    "number_list = [number for number in range(1, 6)]\n",
    "number_list"
   ]
  },
  {
   "cell_type": "code",
   "execution_count": 15,
   "id": "f285922b-5e06-48a3-a663-44cf09813a1f",
   "metadata": {},
   "outputs": [
    {
     "data": {
      "text/plain": [
       "[0, 1, 2, 3, 4]"
      ]
     },
     "execution_count": 15,
     "metadata": {},
     "output_type": "execute_result"
    }
   ],
   "source": [
    "# 함수 적용\n",
    "number_list = [number-1 for number in range(1, 6)]    # [F(x) for xs(변수) in iter(반복자)]\n",
    "number_list"
   ]
  },
  {
   "cell_type": "code",
   "execution_count": 18,
   "id": "df863b9b-7ecb-42b4-a550-086494cc0c96",
   "metadata": {},
   "outputs": [
    {
     "data": {
      "text/plain": [
       "[1, 3, 5]"
      ]
     },
     "execution_count": 18,
     "metadata": {},
     "output_type": "execute_result"
    }
   ],
   "source": [
    "# 조건 적용\n",
    "a_list = [number for number in range(1, 6) if number % 2 == 1]       # number % 2 == 1은 \"2로 나눴을 때 나머지가 1인 수\", 즉 홀수를 뜻함.\n",
    "a_list"
   ]
  },
  {
   "cell_type": "code",
   "execution_count": 20,
   "id": "0af24f46-2a9b-47b1-b2c0-6491bce7d5b7",
   "metadata": {},
   "outputs": [
    {
     "data": {
      "text/plain": [
       "[1, 3, 5]"
      ]
     },
     "execution_count": 20,
     "metadata": {},
     "output_type": "execute_result"
    }
   ],
   "source": [
    "# 만약 똑같은 조을 for문을 적용한다면? 너무 길다~\n",
    "a_list = []\n",
    "for number in range(1, 6):\n",
    "    if number %2 ==1:\n",
    "        a_list.append(number)\n",
    "a_list"
   ]
  },
  {
   "cell_type": "code",
   "execution_count": 24,
   "id": "ad9fde30-e829-4312-93fc-f6a80644c543",
   "metadata": {},
   "outputs": [
    {
     "data": {
      "text/plain": [
       "['i', 'love', 'python', 'soooooo', 'much!!!']"
      ]
     },
     "execution_count": 24,
     "metadata": {},
     "output_type": "execute_result"
    }
   ],
   "source": [
    "#예제\n",
    "sentence = ['I', 'Love', 'Python', 'Soooooo', 'MUCH!!!']\n",
    "#(1) 함수 적용\n",
    "[word.lower() for word in sentence]    # .lower()는 소문자로 바꾸는 함수 / .upper()는 대문자로 바꾸는 함수임"
   ]
  },
  {
   "cell_type": "code",
   "execution_count": 25,
   "id": "bcadbac3-5a59-4ae4-b688-9e96926f5ccb",
   "metadata": {},
   "outputs": [
    {
     "data": {
      "text/plain": [
       "['Soooooo', 'MUCH!!!']"
      ]
     },
     "execution_count": 25,
     "metadata": {},
     "output_type": "execute_result"
    }
   ],
   "source": [
    "#(2) 조건 적용\n",
    "[word for word in sentence if len(word) > 6]"
   ]
  },
  {
   "cell_type": "code",
   "execution_count": 27,
   "id": "dd9938bf-51cb-496c-8bd2-3bf12d315a4a",
   "metadata": {},
   "outputs": [
    {
     "data": {
      "text/plain": [
       "[(0, 0, 0),\n",
       " (1, 1, 1),\n",
       " (2, 4, 8),\n",
       " (3, 9, 27),\n",
       " (4, 16, 64),\n",
       " (5, 25, 125),\n",
       " (6, 36, 216),\n",
       " (7, 49, 343),\n",
       " (8, 64, 512),\n",
       " (9, 81, 729)]"
      ]
     },
     "execution_count": 27,
     "metadata": {},
     "output_type": "execute_result"
    }
   ],
   "source": [
    "#(3) 함수 적용하여 (튜플)로 저장          # [F(x) for xs(변수) in iter(반복자)]. 여기서 앞뒤로 []를 꼭 써줘야함. list를 만든다는 뜻\n",
    "[(x, x**2, x**3) for x in range(10)]   # range(10)까지, 즉, 1부터 9의 범위에서 (변수, 변수의 제곱, 변수의 세제곱)을 묶어서 튜플형식()으로 저장하기!"
   ]
  },
  {
   "cell_type": "code",
   "execution_count": 28,
   "id": "1d41bffe-34f5-415a-93d8-046161fa28fd",
   "metadata": {},
   "outputs": [
    {
     "name": "stdout",
     "output_type": "stream",
     "text": [
      "1 1\n",
      "1 2\n",
      "2 1\n",
      "2 2\n",
      "3 1\n",
      "3 2\n"
     ]
    }
   ],
   "source": [
    "rows = range(1,4)\n",
    "cols = range(1,3)\n",
    "for row in rows:\n",
    "    for col in cols:\n",
    "        print(row,col)"
   ]
  },
  {
   "cell_type": "code",
   "execution_count": 29,
   "id": "01968e6a-1a1d-42ec-ae8c-b48ced331820",
   "metadata": {},
   "outputs": [
    {
     "name": "stdout",
     "output_type": "stream",
     "text": [
      "(1, 1)\n",
      "(1, 2)\n",
      "(2, 1)\n",
      "(2, 2)\n",
      "(3, 1)\n",
      "(3, 2)\n"
     ]
    }
   ],
   "source": [
    "# 위 결과를 리스트 내포로 작성해보자\n",
    "rows = range(1,4)\n",
    "cols = range(1,3)\n",
    "cells = [(row,col) for row in rows for col in cols]\n",
    "for cell in cells:\n",
    "    print(cell)"
   ]
  },
  {
   "cell_type": "code",
   "execution_count": 33,
   "id": "7aecb4f8-8616-40f5-b0d4-ee9e5467e48d",
   "metadata": {},
   "outputs": [
    {
     "data": {
      "text/plain": [
       "[(1, 0),\n",
       " (2, 0),\n",
       " (2, 1),\n",
       " (3, 0),\n",
       " (3, 1),\n",
       " (3, 2),\n",
       " (4, 0),\n",
       " (4, 1),\n",
       " (4, 2),\n",
       " (4, 3)]"
      ]
     },
     "execution_count": 33,
     "metadata": {},
     "output_type": "execute_result"
    }
   ],
   "source": [
    "# 다음은 어떤 결과가? \n",
    "[(i,j) for i in range(5) for j in range(i)]"
   ]
  },
  {
   "cell_type": "code",
   "execution_count": 35,
   "id": "406de255-ec00-4d4e-88c7-fdcf7c824895",
   "metadata": {},
   "outputs": [],
   "source": [
    "# Dictionary comprhension의 기본 구조는 {key_func(vars):val_func(vars) for vars in interable}"
   ]
  },
  {
   "cell_type": "code",
   "execution_count": 36,
   "id": "dfd448c1-e682-4d60-ae4a-475e1140cf51",
   "metadata": {},
   "outputs": [
    {
     "data": {
      "text/plain": [
       "{'l': 1, 'e': 2, 't': 2, 'r': 1, 's': 1}"
      ]
     },
     "execution_count": 36,
     "metadata": {},
     "output_type": "execute_result"
    }
   ],
   "source": [
    "#예제\n",
    "word = 'letters'\n",
    "letter_counts = {letter:word.count(letter) for letter in word}   # 불필요하게 count를 여러번 호출(값은 정확)\n",
    "letter_counts"
   ]
  },
  {
   "cell_type": "code",
   "execution_count": 37,
   "id": "6fe75238-cebb-4822-8241-a6ce2bfbce26",
   "metadata": {},
   "outputs": [
    {
     "data": {
      "text/plain": [
       "{'l': 1, 't': 2, 'e': 2, 'r': 1, 's': 1}"
      ]
     },
     "execution_count": 37,
     "metadata": {},
     "output_type": "execute_result"
    }
   ],
   "source": [
    "# 다른 방식으로 코딩\n",
    "word = 'letters'\n",
    "letter_counts = {letter:word.count(letter) for letter in set(word)}   # set(word)는 {‘l’, ‘e’, ‘t’, ‘r’, ‘s’}와 같음\n",
    "letter_counts"
   ]
  },
  {
   "cell_type": "code",
   "execution_count": 38,
   "id": "0a098d20-ab17-4c2c-9798-2b7f63fc9802",
   "metadata": {},
   "outputs": [
    {
     "data": {
      "text/plain": [
       "{1, 4}"
      ]
     },
     "execution_count": 38,
     "metadata": {},
     "output_type": "execute_result"
    }
   ],
   "source": [
    "a_set = {number for number in range(1,6) if number %3 == 1}    # 3으로 나눴을 때 나머지가 1인 숫자만 출력하도록 set형태로 담음\n",
    "a_set"
   ]
  },
  {
   "cell_type": "code",
   "execution_count": 41,
   "id": "faeb70cb-89d8-44eb-9295-aaa05fa90247",
   "metadata": {},
   "outputs": [],
   "source": [
    "# <<< Functions and code structure >>>"
   ]
  },
  {
   "cell_type": "code",
   "execution_count": 49,
   "id": "29ab8621-6070-42a7-85f2-fdd1f9255e67",
   "metadata": {},
   "outputs": [
    {
     "data": {
      "text/plain": [
       "'lovepython'"
      ]
     },
     "execution_count": 49,
     "metadata": {},
     "output_type": "execute_result"
    }
   ],
   "source": [
    "# return값을 갖는 함수의 기본 구조는 아래와 같음\n",
    "def function_namme(param1, param2):\n",
    "    value = do_something()\n",
    "    return value\n",
    "\n",
    "# 예를 들어\n",
    "def sum(a, b):\n",
    "    return a+b\n",
    "sum(1, 2)"
   ]
  },
  {
   "cell_type": "code",
   "execution_count": 50,
   "id": "45d8d660-fdee-4826-b60f-61ca2d9e1656",
   "metadata": {},
   "outputs": [
    {
     "data": {
      "text/plain": [
       "4.4"
      ]
     },
     "execution_count": 50,
     "metadata": {},
     "output_type": "execute_result"
    }
   ],
   "source": [
    "sum(1.3, 3.1)"
   ]
  },
  {
   "cell_type": "code",
   "execution_count": 53,
   "id": "6e27874e-bdd6-4e7e-960a-1034f4c75410",
   "metadata": {},
   "outputs": [
    {
     "data": {
      "text/plain": [
       "'love python♥'"
      ]
     },
     "execution_count": 53,
     "metadata": {},
     "output_type": "execute_result"
    }
   ],
   "source": [
    "sum('love ', 'python♥')"
   ]
  },
  {
   "cell_type": "code",
   "execution_count": 55,
   "id": "3f008c8a-4016-47b8-85ca-ba3f847d8b80",
   "metadata": {},
   "outputs": [
    {
     "name": "stdout",
     "output_type": "stream",
     "text": [
      "Monday : drink coffee - eat banana - enjoy tiramisu\n",
      "Tuesday : drink tea - eat orange - enjoy ice cream\n",
      "Wednesday : drink beer - eat peach - enjoy pie\n"
     ]
    }
   ],
   "source": [
    "# zip을 이용한 순회\n",
    "days = ['Monday', 'Tuesday', 'Wednesday']\n",
    "fruits = ['banana', 'orange', 'peach']\n",
    "drinks = ['coffee', 'tea', 'beer']\n",
    "desserts = ['tiramisu', 'ice cream', 'pie', 'pudding']\n",
    "for day, fruit, drink, dessert in zip(days, fruits, drinks, desserts):\n",
    "    print(day,\": drink\", drink, \"- eat\",fruit, \"- enjoy\",dessert)"
   ]
  },
  {
   "cell_type": "code",
   "execution_count": 58,
   "id": "684f5395-c8c5-4a07-8eab-80a14acd209a",
   "metadata": {},
   "outputs": [
    {
     "data": {
      "text/plain": [
       "[('Monday', 'Lundi'), ('Tuesday', 'Mardi'), ('Wednesday', 'Mercredi')]"
      ]
     },
     "execution_count": 58,
     "metadata": {},
     "output_type": "execute_result"
    }
   ],
   "source": [
    "# zip을 이용하여 영어-프랑스어 사전 만들기\n",
    "english = 'Monday', 'Tuesday', 'Wednesday'\n",
    "francais = 'Lundi', 'Mardi', 'Mercredi'\n",
    "list(zip(english, francais))    # list 안에 zip을 묶으면 list 형식으로 나온다"
   ]
  },
  {
   "cell_type": "code",
   "execution_count": 59,
   "id": "31bf4281-a65d-4c1f-83e5-d7c272f7bad1",
   "metadata": {},
   "outputs": [
    {
     "data": {
      "text/plain": [
       "{'Monday': 'Lundi', 'Tuesday': 'Mardi', 'Wednesday': 'Mercredi'}"
      ]
     },
     "execution_count": 59,
     "metadata": {},
     "output_type": "execute_result"
    }
   ],
   "source": [
    "dict(zip(english, francais))    # dict 안에 zip을 묶으면 dict 형식으로 나온다"
   ]
  },
  {
   "cell_type": "code",
   "execution_count": 61,
   "id": "f3fd8f39-38b9-4e86-812e-4215b7b2703f",
   "metadata": {},
   "outputs": [
    {
     "data": {
      "text/plain": [
       "{'wine': 'chardonnay', 'entree': 'chicken', 'dessert': 'cake'}"
      ]
     },
     "execution_count": 61,
     "metadata": {},
     "output_type": "execute_result"
    }
   ],
   "source": [
    "# 함수 위치 인자\n",
    "def menu(wine, entree, dessert):\n",
    "    return{'wine':wine, 'entree':entree,'dessert':dessert}\n",
    "\n",
    "menu('chardonnay', 'chicken', 'cake')    # 이렇게 값만 입력해도 출력은 되나, 각 위치의 의미를 정확히 알아야 한다는 단점 존재함"
   ]
  },
  {
   "cell_type": "code",
   "execution_count": 62,
   "id": "ca19f697-545c-4259-a6b9-a84d18a4cedd",
   "metadata": {},
   "outputs": [
    {
     "data": {
      "text/plain": [
       "{'wine': 'bordeaux', 'entree': 'beef', 'dessert': 'bagle'}"
      ]
     },
     "execution_count": 62,
     "metadata": {},
     "output_type": "execute_result"
    }
   ],
   "source": [
    "menu(entree='beef', dessert='bagle', wine='bordeaux')    # 인자 = '원하는 값'으로 지정해주면 알아서 위치 찾아감!"
   ]
  },
  {
   "cell_type": "code",
   "execution_count": 64,
   "id": "f26f2373-9fe9-4d89-821e-8df000ea057a",
   "metadata": {},
   "outputs": [
    {
     "data": {
      "text/plain": [
       "{'wine': 'frontenac', 'entree': 'fish', 'dessert': 'flan'}"
      ]
     },
     "execution_count": 64,
     "metadata": {},
     "output_type": "execute_result"
    }
   ],
   "source": [
    "menu('frontenac', dessert='flan', entree='fish')    # 섞어 쓸수도 있음. 대신, 위치인자가 먼저 나와야 함!"
   ]
  },
  {
   "cell_type": "code",
   "execution_count": 72,
   "id": "965606f6-b63d-4bce-84cb-eae464fa69a3",
   "metadata": {},
   "outputs": [
    {
     "data": {
      "text/plain": [
       "{'wine': 'chardonnay', 'entree': 'chicken', 'dessert': 'pudding'}"
      ]
     },
     "execution_count": 72,
     "metadata": {},
     "output_type": "execute_result"
    }
   ],
   "source": [
    "# 기본값을 지정해줄수도 있음. \n",
    "def menu(wine, entree, dessert='pudding'):   #desserts에 아무것도 인자(값)을 제공하지 않으면 pudding이 출력\n",
    "    return{'wine':wine, 'entree':entree,'dessert':dessert}\n",
    "\n",
    "menu('chardonnay','chicken')"
   ]
  },
  {
   "cell_type": "code",
   "execution_count": 73,
   "id": "31d6cf20-d672-47d9-8243-2c48d0c55fd8",
   "metadata": {},
   "outputs": [
    {
     "data": {
      "text/plain": [
       "{'wine': 'dunkelfelder', 'entree': 'duck', 'dessert': 'doughnut'}"
      ]
     },
     "execution_count": 73,
     "metadata": {},
     "output_type": "execute_result"
    }
   ],
   "source": [
    "menu('dunkelfelder', 'duck', 'doughnut')   # dessert 값을 입력한 경우, 입력한 값이 출력됨"
   ]
  },
  {
   "cell_type": "code",
   "execution_count": 76,
   "id": "fd71b9ef-f7c8-47cc-9cb8-b0ae25771f59",
   "metadata": {},
   "outputs": [],
   "source": [
    "# 가능한 경우\n",
    "def menu(price, wine='chardonnay', entree='chicken', dessert='pudding'):\n",
    "    return{'price':price, 'wine':wine, 'entree':entree, 'dessert':dessert}"
   ]
  },
  {
   "cell_type": "code",
   "execution_count": 77,
   "id": "19052c7c-2144-4476-9fb6-cee72426897c",
   "metadata": {},
   "outputs": [
    {
     "data": {
      "text/plain": [
       "{'price': 100, 'wine': 'chardonnay', 'entree': 'chicken', 'dessert': 'pudding'}"
      ]
     },
     "execution_count": 77,
     "metadata": {},
     "output_type": "execute_result"
    }
   ],
   "source": [
    "menu(100)  # 위치인자"
   ]
  },
  {
   "cell_type": "code",
   "execution_count": 78,
   "id": "228a25ee-6332-4c88-8b8f-8c99ab335ac0",
   "metadata": {},
   "outputs": [
    {
     "data": {
      "text/plain": [
       "{'price': 150, 'wine': 'chardonnay', 'entree': 'chicken', 'dessert': 'pudding'}"
      ]
     },
     "execution_count": 78,
     "metadata": {},
     "output_type": "execute_result"
    }
   ],
   "source": [
    "menu(price=150)  # 1키워드 인자"
   ]
  },
  {
   "cell_type": "code",
   "execution_count": 80,
   "id": "9ef7f2b2-ede7-4179-bef5-66d5e12c6804",
   "metadata": {},
   "outputs": [
    {
     "data": {
      "text/plain": [
       "{'price': 120, 'wine': 'chardonnay', 'entree': 'beef', 'dessert': 'pudding'}"
      ]
     },
     "execution_count": 80,
     "metadata": {},
     "output_type": "execute_result"
    }
   ],
   "source": [
    "menu(price=120, entree='beef')  # 2 키워드 인자"
   ]
  },
  {
   "cell_type": "code",
   "execution_count": 81,
   "id": "ed2d18df-d7ec-4c07-8590-c60c00d73e37",
   "metadata": {},
   "outputs": [
    {
     "data": {
      "text/plain": [
       "{'price': 110, 'wine': 'chardonnay', 'entree': 'chicken', 'dessert': 'bagle'}"
      ]
     },
     "execution_count": 81,
     "metadata": {},
     "output_type": "execute_result"
    }
   ],
   "source": [
    "menu(dessert='bagle', price=110)  # 2 키워드 인자"
   ]
  },
  {
   "cell_type": "code",
   "execution_count": 86,
   "id": "08a6b58e-5aaa-4a2f-9c72-7302810a4d45",
   "metadata": {},
   "outputs": [
    {
     "data": {
      "text/plain": [
       "{'price': 'eighty',\n",
       " 'wine': 'saint-pierre',\n",
       " 'entree': 'fish',\n",
       " 'dessert': 'pudding'}"
      ]
     },
     "execution_count": 86,
     "metadata": {},
     "output_type": "execute_result"
    }
   ],
   "source": [
    "menu('eighty','saint-pierre','fish')  # 3 위치 인자"
   ]
  },
  {
   "cell_type": "code",
   "execution_count": 88,
   "id": "429c7887-c7f6-4eaf-9a1d-53e2e18b4bf2",
   "metadata": {},
   "outputs": [
    {
     "data": {
      "text/plain": [
       "{'price': 'hundred',\n",
       " 'wine': 'saint-pierre',\n",
       " 'entree': 'chicken',\n",
       " 'dessert': 'pudding'}"
      ]
     },
     "execution_count": 88,
     "metadata": {},
     "output_type": "execute_result"
    }
   ],
   "source": [
    "menu('hundred',wine='saint-pierre')   # 1 위치인자, 1 키워드인자"
   ]
  },
  {
   "cell_type": "code",
   "execution_count": 89,
   "id": "f5c7681f-3d1b-4cc6-a084-057bb894362c",
   "metadata": {},
   "outputs": [],
   "source": [
    "# 불가능한 경우"
   ]
  },
  {
   "cell_type": "code",
   "execution_count": 90,
   "id": "c7efeef6-3ac0-40e5-899e-f3873509fabc",
   "metadata": {},
   "outputs": [
    {
     "ename": "TypeError",
     "evalue": "menu() missing 1 required positional argument: 'price'",
     "output_type": "error",
     "traceback": [
      "\u001b[31m---------------------------------------------------------------------------\u001b[39m",
      "\u001b[31mTypeError\u001b[39m                                 Traceback (most recent call last)",
      "\u001b[36mCell\u001b[39m\u001b[36m \u001b[39m\u001b[32mIn[90]\u001b[39m\u001b[32m, line 1\u001b[39m\n\u001b[32m----> \u001b[39m\u001b[32m1\u001b[39m \u001b[43mmenu\u001b[49m\u001b[43m(\u001b[49m\u001b[43m)\u001b[49m\n",
      "\u001b[31mTypeError\u001b[39m: menu() missing 1 required positional argument: 'price'"
     ]
    }
   ],
   "source": [
    "menu()    # price 인자가 할당이 안됨"
   ]
  },
  {
   "cell_type": "code",
   "execution_count": 91,
   "id": "2aa42e50-983e-41f2-bfae-e0e6d3cd874f",
   "metadata": {},
   "outputs": [
    {
     "ename": "SyntaxError",
     "evalue": "positional argument follows keyword argument (2276001416.py, line 1)",
     "output_type": "error",
     "traceback": [
      "  \u001b[36mCell\u001b[39m\u001b[36m \u001b[39m\u001b[32mIn[91]\u001b[39m\u001b[32m, line 1\u001b[39m\n\u001b[31m    \u001b[39m\u001b[31mmenu(price=100, 'saint-pierre')\u001b[39m\n                                  ^\n\u001b[31mSyntaxError\u001b[39m\u001b[31m:\u001b[39m positional argument follows keyword argument\n"
     ]
    }
   ],
   "source": [
    "menu(price=100, 'saint-pierre')   # 키워드인자 할당 후 위치인자"
   ]
  },
  {
   "cell_type": "code",
   "execution_count": 92,
   "id": "9d79a10b-7dda-423f-b075-8244f10489a6",
   "metadata": {},
   "outputs": [
    {
     "ename": "TypeError",
     "evalue": "menu() got multiple values for argument 'price'",
     "output_type": "error",
     "traceback": [
      "\u001b[31m---------------------------------------------------------------------------\u001b[39m",
      "\u001b[31mTypeError\u001b[39m                                 Traceback (most recent call last)",
      "\u001b[36mCell\u001b[39m\u001b[36m \u001b[39m\u001b[32mIn[92]\u001b[39m\u001b[32m, line 1\u001b[39m\n\u001b[32m----> \u001b[39m\u001b[32m1\u001b[39m \u001b[43mmenu\u001b[49m\u001b[43m(\u001b[49m\u001b[32;43m100\u001b[39;49m\u001b[43m,\u001b[49m\u001b[43m \u001b[49m\u001b[43mprice\u001b[49m\u001b[43m=\u001b[49m\u001b[32;43m120\u001b[39;49m\u001b[43m)\u001b[49m\n",
      "\u001b[31mTypeError\u001b[39m: menu() got multiple values for argument 'price'"
     ]
    }
   ],
   "source": [
    "menu(100, price=120)  # 같은 변수에 두 번 할당"
   ]
  },
  {
   "cell_type": "code",
   "execution_count": 94,
   "id": "df266e32-2804-43af-8ea8-8b8ab3203cc4",
   "metadata": {},
   "outputs": [
    {
     "ename": "TypeError",
     "evalue": "menu() got an unexpected keyword argument 'main'",
     "output_type": "error",
     "traceback": [
      "\u001b[31m---------------------------------------------------------------------------\u001b[39m",
      "\u001b[31mTypeError\u001b[39m                                 Traceback (most recent call last)",
      "\u001b[36mCell\u001b[39m\u001b[36m \u001b[39m\u001b[32mIn[94]\u001b[39m\u001b[32m, line 1\u001b[39m\n\u001b[32m----> \u001b[39m\u001b[32m1\u001b[39m \u001b[43mmenu\u001b[49m\u001b[43m(\u001b[49m\u001b[43mmain\u001b[49m\u001b[43m=\u001b[49m\u001b[33;43m'\u001b[39;49m\u001b[33;43mcream pasta\u001b[39;49m\u001b[33;43m'\u001b[39;49m\u001b[43m)\u001b[49m   \u001b[38;5;66;03m# main은 정의되지 않은 매개변수임\u001b[39;00m\n",
      "\u001b[31mTypeError\u001b[39m: menu() got an unexpected keyword argument 'main'"
     ]
    }
   ],
   "source": [
    "menu(main='cream pasta')   # main은 정의되지 않은 매개변수임"
   ]
  },
  {
   "cell_type": "code",
   "execution_count": null,
   "id": "b8b8af34-23e0-4a15-a37a-b6c6095e2c88",
   "metadata": {},
   "outputs": [],
   "source": [
    "# 함수 시작 부분에 문자열을 포함하여 함수의 정의에 문서를 넣을 수 있음(설명). 이후, help()함수를 호출하여 내용을 출력할 수 있음!"
   ]
  },
  {
   "cell_type": "code",
   "execution_count": 97,
   "id": "4d4bb881-2eb0-4aba-a514-d3c6d3d84cd6",
   "metadata": {},
   "outputs": [],
   "source": [
    "def echo(anything):\n",
    "    'echo retruns its input argument'\n",
    "    return anything"
   ]
  },
  {
   "cell_type": "code",
   "execution_count": 98,
   "id": "e8e9c462-5935-4c4c-a796-dceb640e7c9c",
   "metadata": {},
   "outputs": [],
   "source": [
    "def print_if_true(thing, check):\n",
    "    \"\"\"\n",
    "    Prints the first argument if a second argument is true.\n",
    "    The operation is:\n",
    "       1. Check whether the *second* argument is true.\n",
    "       2. If it is, print the *first* argumemt.\n",
    "    \"\"\"\n",
    "    if check:\n",
    "        print(thing)"
   ]
  },
  {
   "cell_type": "code",
   "execution_count": 99,
   "id": "eb1a11ad-d55c-422a-a9cf-27d6c9a123c4",
   "metadata": {},
   "outputs": [
    {
     "name": "stdout",
     "output_type": "stream",
     "text": [
      "Help on function echo in module __main__:\n",
      "\n",
      "echo(anything)\n",
      "    echo retruns its input argument\n",
      "\n"
     ]
    }
   ],
   "source": [
    "help(echo)"
   ]
  },
  {
   "cell_type": "code",
   "execution_count": 101,
   "id": "06c175ec-61a4-4d43-a262-9815b778bd10",
   "metadata": {},
   "outputs": [
    {
     "name": "stdout",
     "output_type": "stream",
     "text": [
      "Help on function print_if_true in module __main__:\n",
      "\n",
      "print_if_true(thing, check)\n",
      "    Prints the first argument if a second argument is true.\n",
      "    The operation is:\n",
      "       1. Check whether the *second* argument is true.\n",
      "       2. If it is, print the *first* argumemt.\n",
      "\n"
     ]
    }
   ],
   "source": [
    "help(print_if_true)"
   ]
  },
  {
   "cell_type": "code",
   "execution_count": null,
   "id": "23df6c18-4584-4836-92a2-d7f1e1f88065",
   "metadata": {},
   "outputs": [],
   "source": [
    "- 끝 -"
   ]
  }
 ],
 "metadata": {
  "kernelspec": {
   "display_name": "Python 3 (ipykernel)",
   "language": "python",
   "name": "python3"
  },
  "language_info": {
   "codemirror_mode": {
    "name": "ipython",
    "version": 3
   },
   "file_extension": ".py",
   "mimetype": "text/x-python",
   "name": "python",
   "nbconvert_exporter": "python",
   "pygments_lexer": "ipython3",
   "version": "3.13.2"
  }
 },
 "nbformat": 4,
 "nbformat_minor": 5
}
