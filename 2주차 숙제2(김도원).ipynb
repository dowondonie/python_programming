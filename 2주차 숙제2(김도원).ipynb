{
 "cells": [
  {
   "cell_type": "code",
   "execution_count": 1,
   "id": "462d6403-268a-48f4-9d61-7578460412b6",
   "metadata": {},
   "outputs": [],
   "source": [
    "#Exercise Strings 1  (25학번 석사과정 김도원 2025177784)"
   ]
  },
  {
   "cell_type": "code",
   "execution_count": 3,
   "id": "c0e7116a-6428-4281-b4e7-1ed2f9a9dd45",
   "metadata": {},
   "outputs": [],
   "source": [
    "A = \"1\""
   ]
  },
  {
   "cell_type": "code",
   "execution_count": 4,
   "id": "7c7ce44c-796e-4844-babd-5bc6f3b056ae",
   "metadata": {},
   "outputs": [
    {
     "data": {
      "text/plain": [
       "'1'"
      ]
     },
     "execution_count": 4,
     "metadata": {},
     "output_type": "execute_result"
    }
   ],
   "source": [
    "A"
   ]
  },
  {
   "cell_type": "code",
   "execution_count": 5,
   "id": "45fef1d8-7beb-4a0d-8683-45e3ebadc0c7",
   "metadata": {},
   "outputs": [],
   "source": [
    "B = \"2\""
   ]
  },
  {
   "cell_type": "code",
   "execution_count": 6,
   "id": "d6363097-570b-4cd2-9c7e-b7ea6fc707dd",
   "metadata": {},
   "outputs": [
    {
     "data": {
      "text/plain": [
       "'2'"
      ]
     },
     "execution_count": 6,
     "metadata": {},
     "output_type": "execute_result"
    }
   ],
   "source": [
    "B"
   ]
  },
  {
   "cell_type": "code",
   "execution_count": 7,
   "id": "606e9925-1140-4be4-8e62-ae8e9879ae05",
   "metadata": {},
   "outputs": [],
   "source": [
    "C = A + B"
   ]
  },
  {
   "cell_type": "code",
   "execution_count": 8,
   "id": "dc07ff66-c2f6-4362-a109-7f9206e04b3a",
   "metadata": {},
   "outputs": [
    {
     "data": {
      "text/plain": [
       "'12'"
      ]
     },
     "execution_count": 8,
     "metadata": {},
     "output_type": "execute_result"
    }
   ],
   "source": [
    "C"
   ]
  },
  {
   "cell_type": "code",
   "execution_count": 9,
   "id": "299d1266-28c0-4d2d-bfac-8e9aa2ed203d",
   "metadata": {},
   "outputs": [],
   "source": [
    "D = \"ABCDEFG\""
   ]
  },
  {
   "cell_type": "code",
   "execution_count": 11,
   "id": "fe8320b4-b3cd-4b6f-863d-a225d2aefe35",
   "metadata": {},
   "outputs": [
    {
     "name": "stdout",
     "output_type": "stream",
     "text": [
      "ABC\n"
     ]
    }
   ],
   "source": [
    "print(D[0:3])"
   ]
  },
  {
   "cell_type": "code",
   "execution_count": 12,
   "id": "319d4ff3-4b4c-4a6e-9397-67231b3fbc93",
   "metadata": {},
   "outputs": [],
   "source": [
    "E = 'clocrkr1e1c1t'"
   ]
  },
  {
   "cell_type": "code",
   "execution_count": 13,
   "id": "53ac41db-16ed-4b2b-b22e-de57dce7cf81",
   "metadata": {},
   "outputs": [
    {
     "name": "stdout",
     "output_type": "stream",
     "text": [
      "correct\n"
     ]
    }
   ],
   "source": [
    "print(E[::2])"
   ]
  },
  {
   "cell_type": "code",
   "execution_count": 14,
   "id": "eba0f4ce-38f2-4565-870c-9f55f51e4011",
   "metadata": {},
   "outputs": [
    {
     "name": "stdout",
     "output_type": "stream",
     "text": [
      "//\n"
     ]
    }
   ],
   "source": [
    "print(\"//\")"
   ]
  },
  {
   "cell_type": "code",
   "execution_count": 15,
   "id": "72fea441-7c57-40c7-a99a-d0aacdd3478a",
   "metadata": {},
   "outputs": [],
   "source": [
    "F = \"You are wrong\""
   ]
  },
  {
   "cell_type": "code",
   "execution_count": 17,
   "id": "9d507989-6e9f-43f3-9087-845e36b5bdba",
   "metadata": {},
   "outputs": [
    {
     "data": {
      "text/plain": [
       "'YOU ARE WRONG'"
      ]
     },
     "execution_count": 17,
     "metadata": {},
     "output_type": "execute_result"
    }
   ],
   "source": [
    "F.upper()"
   ]
  },
  {
   "cell_type": "code",
   "execution_count": 18,
   "id": "5e852464-72c9-4118-bb10-2b1a786e63c7",
   "metadata": {},
   "outputs": [],
   "source": [
    "G = \"Mary had a little lamb Little lamb, little lamb Mary had a little lamb \\\n",
    "Its fleece was white as snow And everywhere that Mary went Mary went, Mary went \\\n",
    "Everywhere that Mary went The lamb was sure to go\""
   ]
  },
  {
   "cell_type": "code",
   "execution_count": 19,
   "id": "13fc925c-7ca9-46d1-9ad0-8eafbd3eeafb",
   "metadata": {},
   "outputs": [
    {
     "data": {
      "text/plain": [
       "95"
      ]
     },
     "execution_count": 19,
     "metadata": {},
     "output_type": "execute_result"
    }
   ],
   "source": [
    "G.find(\"snow\")"
   ]
  },
  {
   "cell_type": "code",
   "execution_count": 21,
   "id": "a0b20ffd-75e2-4eb8-9864-df557760e702",
   "metadata": {},
   "outputs": [
    {
     "data": {
      "text/plain": [
       "'Bob had a little lamb Little lamb, little lamb Bob had a little lamb Its fleece was white as snow And everywhere that Bob went Bob went, Bob went Everywhere that Bob went The lamb was sure to go'"
      ]
     },
     "execution_count": 21,
     "metadata": {},
     "output_type": "execute_result"
    }
   ],
   "source": [
    "G.replace(\"Mary\",\"Bob\")"
   ]
  },
  {
   "cell_type": "code",
   "execution_count": null,
   "id": "513686fb-1f95-446d-91a4-433c5986024e",
   "metadata": {},
   "outputs": [],
   "source": []
  }
 ],
 "metadata": {
  "kernelspec": {
   "display_name": "Python 3 (ipykernel)",
   "language": "python",
   "name": "python3"
  },
  "language_info": {
   "codemirror_mode": {
    "name": "ipython",
    "version": 3
   },
   "file_extension": ".py",
   "mimetype": "text/x-python",
   "name": "python",
   "nbconvert_exporter": "python",
   "pygments_lexer": "ipython3",
   "version": "3.13.2"
  }
 },
 "nbformat": 4,
 "nbformat_minor": 5
}
