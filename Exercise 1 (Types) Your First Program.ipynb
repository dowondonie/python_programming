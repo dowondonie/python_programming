{
 "cells": [
  {
   "cell_type": "code",
   "execution_count": 5,
   "id": "f61b11a6-3fc3-441d-af75-1b6318f8256b",
   "metadata": {},
   "outputs": [
    {
     "name": "stdout",
     "output_type": "stream",
     "text": [
      "Hello, world!\n"
     ]
    }
   ],
   "source": [
    "print(\"Hello, world!\")"
   ]
  },
  {
   "cell_type": "code",
   "execution_count": 6,
   "id": "1d56838f-cb12-49dc-b21b-4eedd164ffc1",
   "metadata": {},
   "outputs": [
    {
     "name": "stdout",
     "output_type": "stream",
     "text": [
      "Hello, world!\n"
     ]
    }
   ],
   "source": [
    "print(\"Hello, world!\") # Print the traditional hello world"
   ]
  },
  {
   "cell_type": "code",
   "execution_count": 7,
   "id": "123829ce-273b-4823-b954-f33ebaf9940f",
   "metadata": {},
   "outputs": [],
   "source": [
    "#학번 2025177784  이름 김도원  교수님 파이썬 파일 저장하는데만 1시간 걸렸어요. 앞으로의 난관이 살짝 걱정되지만 잘 따라해보겠습니다!"
   ]
  }
 ],
 "metadata": {
  "kernelspec": {
   "display_name": "Python 3 (ipykernel)",
   "language": "python",
   "name": "python3"
  },
  "language_info": {
   "codemirror_mode": {
    "name": "ipython",
    "version": 3
   },
   "file_extension": ".py",
   "mimetype": "text/x-python",
   "name": "python",
   "nbconvert_exporter": "python",
   "pygments_lexer": "ipython3",
   "version": "3.13.2"
  }
 },
 "nbformat": 4,
 "nbformat_minor": 5
}
